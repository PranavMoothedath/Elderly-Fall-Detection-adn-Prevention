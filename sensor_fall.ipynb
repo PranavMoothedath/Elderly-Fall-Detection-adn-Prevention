{
 "cells": [
  {
   "cell_type": "code",
   "execution_count": 1,
   "id": "0b7d0343",
   "metadata": {
    "_cell_guid": "b1076dfc-b9ad-4769-8c92-a6c4dae69d19",
    "_uuid": "8f2839f25d086af736a60e9eeb907d3b93b6e0e5",
    "execution": {
     "iopub.execute_input": "2024-03-27T18:11:55.712645Z",
     "iopub.status.busy": "2024-03-27T18:11:55.711703Z",
     "iopub.status.idle": "2024-03-27T18:12:18.053650Z",
     "shell.execute_reply": "2024-03-27T18:12:18.052055Z"
    },
    "papermill": {
     "duration": 22.360621,
     "end_time": "2024-03-27T18:12:18.056859",
     "exception": false,
     "start_time": "2024-03-27T18:11:55.696238",
     "status": "completed"
    },
    "tags": []
   },
   "outputs": [],
   "source": [
    "import numpy as np\n",
    "import pandas as pd\n",
    "import tensorflow as tf\n",
    "import tensorflow.keras as keras\n",
    "from scipy.stats import mode\n",
    "import matplotlib.pyplot as plt\n",
    "import seaborn as sns\n",
    "import os\n",
    "import cv2\n",
    "from skimage import io, color, exposure\n",
    "from sklearn.decomposition import PCA\n",
    "from sklearn.manifold import TSNE\n",
    "from IPython.display import clear_output\n",
    "import warnings \n",
    "warnings.filterwarnings('ignore')\n",
    "import pandas as pd\n",
    "clear_output()"
   ]
  },
  {
   "cell_type": "code",
   "execution_count": 2,
   "id": "27338086",
   "metadata": {
    "execution": {
     "iopub.execute_input": "2024-03-27T18:12:18.084402Z",
     "iopub.status.busy": "2024-03-27T18:12:18.083529Z",
     "iopub.status.idle": "2024-03-27T18:12:18.090198Z",
     "shell.execute_reply": "2024-03-27T18:12:18.088676Z"
    },
    "papermill": {
     "duration": 0.023504,
     "end_time": "2024-03-27T18:12:18.092889",
     "exception": false,
     "start_time": "2024-03-27T18:12:18.069385",
     "status": "completed"
    },
    "tags": []
   },
   "outputs": [],
   "source": [
    "d = []\n",
    "f = []"
   ]
  },
  {
   "cell_type": "code",
   "execution_count": 3,
   "id": "8d3b94b8",
   "metadata": {
    "execution": {
     "iopub.execute_input": "2024-03-27T18:12:18.120608Z",
     "iopub.status.busy": "2024-03-27T18:12:18.119305Z",
     "iopub.status.idle": "2024-03-27T18:12:19.151882Z",
     "shell.execute_reply": "2024-03-27T18:12:19.150463Z"
    },
    "papermill": {
     "duration": 1.049928,
     "end_time": "2024-03-27T18:12:19.155004",
     "exception": false,
     "start_time": "2024-03-27T18:12:18.105076",
     "status": "completed"
    },
    "tags": []
   },
   "outputs": [],
   "source": [
    "path = '/kaggle/input/sis-fall-original-dataset/SisFall_dataset/'\n",
    "l = os.listdir('/kaggle/input/sis-fall-original-dataset/SisFall_dataset')\n",
    "l.sort()\n",
    "for sub_fol in l[1:39]:\n",
    "        for sub_sub_fol in os.listdir(path+sub_fol):\n",
    "            path_ = path+sub_fol+\"/\"+sub_sub_fol\n",
    "            if(sub_sub_fol[0] == 'F'):\n",
    "                f.append(path_)\n",
    "            elif(sub_sub_fol[0] == 'D'):\n",
    "                d.append(path_)"
   ]
  },
  {
   "cell_type": "code",
   "execution_count": 4,
   "id": "9f2fda50",
   "metadata": {
    "execution": {
     "iopub.execute_input": "2024-03-27T18:12:19.180877Z",
     "iopub.status.busy": "2024-03-27T18:12:19.180146Z",
     "iopub.status.idle": "2024-03-27T18:12:19.189993Z",
     "shell.execute_reply": "2024-03-27T18:12:19.188326Z"
    },
    "papermill": {
     "duration": 0.025881,
     "end_time": "2024-03-27T18:12:19.192836",
     "exception": false,
     "start_time": "2024-03-27T18:12:19.166955",
     "status": "completed"
    },
    "tags": []
   },
   "outputs": [
    {
     "data": {
      "text/plain": [
       "['Readme.txt',\n",
       " 'SA01',\n",
       " 'SA02',\n",
       " 'SA03',\n",
       " 'SA04',\n",
       " 'SA05',\n",
       " 'SA06',\n",
       " 'SA07',\n",
       " 'SA08',\n",
       " 'SA09',\n",
       " 'SA10',\n",
       " 'SA11',\n",
       " 'SA12',\n",
       " 'SA13',\n",
       " 'SA14',\n",
       " 'SA15',\n",
       " 'SA16',\n",
       " 'SA17',\n",
       " 'SA18',\n",
       " 'SA19',\n",
       " 'SA20',\n",
       " 'SA21',\n",
       " 'SA22',\n",
       " 'SA23',\n",
       " 'SE01',\n",
       " 'SE02',\n",
       " 'SE03',\n",
       " 'SE04',\n",
       " 'SE05',\n",
       " 'SE06',\n",
       " 'SE07',\n",
       " 'SE08',\n",
       " 'SE09',\n",
       " 'SE10',\n",
       " 'SE11',\n",
       " 'SE12',\n",
       " 'SE13',\n",
       " 'SE14',\n",
       " 'SE15',\n",
       " 'Supplementary.pdf']"
      ]
     },
     "execution_count": 4,
     "metadata": {},
     "output_type": "execute_result"
    }
   ],
   "source": [
    "l"
   ]
  },
  {
   "cell_type": "code",
   "execution_count": 5,
   "id": "34156334",
   "metadata": {
    "execution": {
     "iopub.execute_input": "2024-03-27T18:12:19.219164Z",
     "iopub.status.busy": "2024-03-27T18:12:19.218767Z",
     "iopub.status.idle": "2024-03-27T18:12:19.224111Z",
     "shell.execute_reply": "2024-03-27T18:12:19.222975Z"
    },
    "papermill": {
     "duration": 0.022439,
     "end_time": "2024-03-27T18:12:19.227838",
     "exception": false,
     "start_time": "2024-03-27T18:12:19.205399",
     "status": "completed"
    },
    "tags": []
   },
   "outputs": [
    {
     "name": "stdout",
     "output_type": "stream",
     "text": [
      "1798\n"
     ]
    }
   ],
   "source": [
    "print(len(f))"
   ]
  },
  {
   "cell_type": "code",
   "execution_count": 6,
   "id": "65920396",
   "metadata": {
    "execution": {
     "iopub.execute_input": "2024-03-27T18:12:19.254311Z",
     "iopub.status.busy": "2024-03-27T18:12:19.253446Z",
     "iopub.status.idle": "2024-03-27T18:12:19.260296Z",
     "shell.execute_reply": "2024-03-27T18:12:19.258545Z"
    },
    "papermill": {
     "duration": 0.023066,
     "end_time": "2024-03-27T18:12:19.262944",
     "exception": false,
     "start_time": "2024-03-27T18:12:19.239878",
     "status": "completed"
    },
    "tags": []
   },
   "outputs": [
    {
     "name": "stdout",
     "output_type": "stream",
     "text": [
      "2707\n"
     ]
    }
   ],
   "source": [
    "print(len(d))"
   ]
  },
  {
   "cell_type": "code",
   "execution_count": 7,
   "id": "256b5d9d",
   "metadata": {
    "execution": {
     "iopub.execute_input": "2024-03-27T18:12:19.290027Z",
     "iopub.status.busy": "2024-03-27T18:12:19.289605Z",
     "iopub.status.idle": "2024-03-27T18:12:19.294346Z",
     "shell.execute_reply": "2024-03-27T18:12:19.293002Z"
    },
    "papermill": {
     "duration": 0.021746,
     "end_time": "2024-03-27T18:12:19.297326",
     "exception": false,
     "start_time": "2024-03-27T18:12:19.275580",
     "status": "completed"
    },
    "tags": []
   },
   "outputs": [],
   "source": [
    "# print(f)"
   ]
  },
  {
   "cell_type": "code",
   "execution_count": 8,
   "id": "a8657c67",
   "metadata": {
    "execution": {
     "iopub.execute_input": "2024-03-27T18:12:19.324935Z",
     "iopub.status.busy": "2024-03-27T18:12:19.324518Z",
     "iopub.status.idle": "2024-03-27T18:12:19.337594Z",
     "shell.execute_reply": "2024-03-27T18:12:19.336062Z"
    },
    "papermill": {
     "duration": 0.02941,
     "end_time": "2024-03-27T18:12:19.340300",
     "exception": false,
     "start_time": "2024-03-27T18:12:19.310890",
     "status": "completed"
    },
    "tags": []
   },
   "outputs": [],
   "source": [
    "df = pd.DataFrame(columns=['Column1', 'Column2', 'Column3', 'Column4', 'Column5', 'Column6', 'Column7', 'Column8', 'Column9', 'Column10'])"
   ]
  },
  {
   "cell_type": "code",
   "execution_count": 9,
   "id": "2fdac5e4",
   "metadata": {
    "execution": {
     "iopub.execute_input": "2024-03-27T18:12:19.366545Z",
     "iopub.status.busy": "2024-03-27T18:12:19.366099Z",
     "iopub.status.idle": "2024-03-27T18:12:19.372291Z",
     "shell.execute_reply": "2024-03-27T18:12:19.370734Z"
    },
    "papermill": {
     "duration": 0.022881,
     "end_time": "2024-03-27T18:12:19.375213",
     "exception": false,
     "start_time": "2024-03-27T18:12:19.352332",
     "status": "completed"
    },
    "tags": []
   },
   "outputs": [],
   "source": [
    "# import random\n",
    "# r = [[1,1],[2,2],[3,3],[4,4],[5,5],[6,6],[7,7],[8,8],[9,9],[10,10]]\n",
    "# num_elements_to_select = int(len(r) * 0.20)\n",
    "# random_subset = random.sample(r, num_elements_to_select)\n",
    "# print(random_subset)"
   ]
  },
  {
   "cell_type": "code",
   "execution_count": 10,
   "id": "4fad3f26",
   "metadata": {
    "execution": {
     "iopub.execute_input": "2024-03-27T18:12:19.403910Z",
     "iopub.status.busy": "2024-03-27T18:12:19.403470Z",
     "iopub.status.idle": "2024-03-27T18:14:37.241568Z",
     "shell.execute_reply": "2024-03-27T18:14:37.240042Z"
    },
    "papermill": {
     "duration": 137.856377,
     "end_time": "2024-03-27T18:14:37.245301",
     "exception": false,
     "start_time": "2024-03-27T18:12:19.388924",
     "status": "completed"
    },
    "tags": []
   },
   "outputs": [
    {
     "name": "stdout",
     "output_type": "stream",
     "text": [
      "Epoch : 0\n",
      "Epoch : 10\n",
      "Epoch : 20\n",
      "Epoch : 30\n",
      "Epoch : 40\n",
      "Epoch : 50\n",
      "Epoch : 60\n",
      "Epoch : 70\n",
      "Epoch : 80\n",
      "Epoch : 90\n",
      "Epoch : 100\n",
      "Epoch : 110\n",
      "Epoch : 120\n",
      "Epoch : 130\n",
      "Epoch : 140\n",
      "Epoch : 150\n",
      "Epoch : 160\n",
      "Epoch : 170\n",
      "Epoch : 180\n",
      "Epoch : 190\n",
      "Epoch : 200\n",
      "Epoch : 210\n",
      "Epoch : 220\n",
      "Epoch : 230\n",
      "Epoch : 240\n",
      "Epoch : 250\n",
      "Epoch : 260\n",
      "Epoch : 270\n",
      "Epoch : 280\n",
      "Epoch : 290\n",
      "Epoch : 300\n",
      "Epoch : 310\n",
      "Epoch : 320\n",
      "Epoch : 330\n",
      "Epoch : 340\n",
      "Epoch : 350\n",
      "Epoch : 360\n",
      "Epoch : 370\n",
      "Epoch : 380\n",
      "Epoch : 390\n",
      "Epoch : 400\n",
      "Epoch : 410\n",
      "Epoch : 420\n",
      "Epoch : 430\n",
      "Epoch : 440\n",
      "Epoch : 450\n",
      "Epoch : 460\n",
      "Epoch : 470\n",
      "Epoch : 480\n",
      "Epoch : 490\n",
      "Epoch : 500\n",
      "Epoch : 510\n",
      "Epoch : 520\n",
      "Epoch : 530\n",
      "Epoch : 540\n",
      "Epoch : 550\n",
      "Epoch : 560\n",
      "Epoch : 570\n",
      "Epoch : 580\n",
      "Epoch : 590\n",
      "Epoch : 600\n",
      "Epoch : 610\n",
      "Epoch : 620\n",
      "Epoch : 630\n",
      "Epoch : 640\n",
      "Epoch : 650\n",
      "Epoch : 660\n",
      "Epoch : 670\n",
      "Epoch : 680\n",
      "Epoch : 690\n",
      "Epoch : 700\n",
      "Epoch : 710\n",
      "Epoch : 720\n",
      "Epoch : 730\n",
      "Epoch : 740\n",
      "Epoch : 750\n",
      "Epoch : 760\n",
      "Epoch : 770\n",
      "Epoch : 780\n",
      "Epoch : 790\n",
      "Epoch : 800\n",
      "Epoch : 810\n",
      "Epoch : 820\n",
      "Epoch : 830\n",
      "Epoch : 840\n",
      "Epoch : 850\n",
      "Epoch : 860\n",
      "Epoch : 870\n",
      "Epoch : 880\n",
      "Epoch : 890\n",
      "Epoch : 900\n",
      "Epoch : 910\n",
      "Epoch : 920\n",
      "Epoch : 930\n",
      "Epoch : 940\n",
      "Epoch : 950\n",
      "Epoch : 960\n",
      "Epoch : 970\n",
      "Epoch : 980\n",
      "Epoch : 990\n",
      "Epoch : 1000\n",
      "Epoch : 1010\n",
      "Epoch : 1020\n",
      "Epoch : 1030\n",
      "Epoch : 1040\n",
      "Epoch : 1050\n",
      "Epoch : 1060\n",
      "Epoch : 1070\n",
      "Epoch : 1080\n",
      "Epoch : 1090\n",
      "Epoch : 1100\n",
      "Epoch : 1110\n",
      "Epoch : 1120\n",
      "Epoch : 1130\n",
      "Epoch : 1140\n",
      "Epoch : 1150\n",
      "Epoch : 1160\n",
      "Epoch : 1170\n",
      "Epoch : 1180\n",
      "Epoch : 1190\n",
      "Epoch : 1200\n",
      "Epoch : 1210\n",
      "Epoch : 1220\n",
      "Epoch : 1230\n",
      "Epoch : 1240\n",
      "Epoch : 1250\n",
      "Epoch : 1260\n",
      "Epoch : 1270\n",
      "Epoch : 1280\n",
      "Epoch : 1290\n",
      "Epoch : 1300\n",
      "Epoch : 1310\n",
      "Epoch : 1320\n",
      "Epoch : 1330\n",
      "Epoch : 1340\n",
      "Epoch : 1350\n",
      "Epoch : 1360\n",
      "Epoch : 1370\n",
      "Epoch : 1380\n",
      "Epoch : 1390\n",
      "Epoch : 1400\n",
      "Epoch : 1410\n",
      "Epoch : 1420\n",
      "Epoch : 1430\n",
      "Epoch : 1440\n",
      "Epoch : 1450\n",
      "Epoch : 1460\n",
      "Epoch : 1470\n",
      "Epoch : 1480\n",
      "Epoch : 1490\n",
      "Epoch : 1500\n",
      "Epoch : 1510\n",
      "Epoch : 1520\n",
      "Epoch : 1530\n",
      "Epoch : 1540\n",
      "Epoch : 1550\n",
      "Epoch : 1560\n",
      "Epoch : 1570\n",
      "Epoch : 1580\n",
      "Epoch : 1590\n",
      "Epoch : 1600\n",
      "Epoch : 1610\n",
      "Epoch : 1620\n",
      "Epoch : 1630\n",
      "Epoch : 1640\n",
      "Epoch : 1650\n",
      "Epoch : 1660\n",
      "Epoch : 1670\n",
      "Epoch : 1680\n",
      "Epoch : 1690\n",
      "Epoch : 1700\n",
      "Epoch : 1710\n",
      "Epoch : 1720\n",
      "Epoch : 1730\n",
      "Epoch : 1740\n",
      "Epoch : 1750\n",
      "Epoch : 1760\n",
      "Epoch : 1770\n",
      "Epoch : 1780\n",
      "Epoch : 1790\n"
     ]
    }
   ],
   "source": [
    "import random\n",
    "for p in range(len(f)):\n",
    "    with open(f[p],'r') as file:\n",
    "        r = file.read()\n",
    "    r = r.replace(' ','')\n",
    "    r = r.split(';\\n')\n",
    "    r = [i.split(',') for i in r]\n",
    "    to_drop_ind = []\n",
    "    for i in range(len(r)):\n",
    "        if(r[i] == ['']):\n",
    "            to_drop_ind.append(i)\n",
    "    c = 0\n",
    "    for i in to_drop_ind:\n",
    "        r.pop(i-c)\n",
    "        c+=1\n",
    "    r = [[int(i) for i in j] for j in r]\n",
    "    num_elements_to_select = int(len(r) * 0.05)\n",
    "    random_subset = random.sample(r, num_elements_to_select)\n",
    "    for i in range(len(random_subset)):\n",
    "        random_subset[i].append(1)\n",
    "    import pandas as pd\n",
    "    new_df = pd.DataFrame(random_subset, columns=df.columns)\n",
    "    df = pd.concat([df, new_df], ignore_index=True)\n",
    "    if(p%10==0):\n",
    "        print(f\"Epoch : {p}\")"
   ]
  },
  {
   "cell_type": "code",
   "execution_count": 11,
   "id": "6719c757",
   "metadata": {
    "execution": {
     "iopub.execute_input": "2024-03-27T18:14:37.306965Z",
     "iopub.status.busy": "2024-03-27T18:14:37.306223Z",
     "iopub.status.idle": "2024-03-27T18:14:37.316081Z",
     "shell.execute_reply": "2024-03-27T18:14:37.313865Z"
    },
    "papermill": {
     "duration": 0.043539,
     "end_time": "2024-03-27T18:14:37.318699",
     "exception": false,
     "start_time": "2024-03-27T18:14:37.275160",
     "status": "completed"
    },
    "tags": []
   },
   "outputs": [
    {
     "data": {
      "text/plain": [
       "(269573, 10)"
      ]
     },
     "execution_count": 11,
     "metadata": {},
     "output_type": "execute_result"
    }
   ],
   "source": [
    "df.shape"
   ]
  },
  {
   "cell_type": "code",
   "execution_count": 12,
   "id": "73290b3a",
   "metadata": {
    "execution": {
     "iopub.execute_input": "2024-03-27T18:14:37.380088Z",
     "iopub.status.busy": "2024-03-27T18:14:37.379614Z",
     "iopub.status.idle": "2024-03-27T18:20:31.589931Z",
     "shell.execute_reply": "2024-03-27T18:20:31.588753Z"
    },
    "papermill": {
     "duration": 354.244043,
     "end_time": "2024-03-27T18:20:31.593093",
     "exception": false,
     "start_time": "2024-03-27T18:14:37.349050",
     "status": "completed"
    },
    "tags": []
   },
   "outputs": [
    {
     "name": "stdout",
     "output_type": "stream",
     "text": [
      "Epoch : 0\n",
      "Epoch : 10\n",
      "Epoch : 20\n",
      "Epoch : 30\n",
      "Epoch : 40\n",
      "Epoch : 50\n",
      "Epoch : 60\n",
      "Epoch : 70\n",
      "Epoch : 80\n",
      "Epoch : 90\n",
      "Epoch : 100\n",
      "Epoch : 110\n",
      "Epoch : 120\n",
      "Epoch : 130\n",
      "Epoch : 140\n",
      "Epoch : 150\n",
      "Epoch : 160\n",
      "Epoch : 170\n",
      "Epoch : 180\n",
      "Epoch : 190\n",
      "Epoch : 200\n",
      "Epoch : 210\n",
      "Epoch : 220\n",
      "Epoch : 230\n",
      "Epoch : 240\n",
      "Epoch : 250\n",
      "Epoch : 260\n",
      "Epoch : 270\n",
      "Epoch : 280\n",
      "Epoch : 290\n",
      "Epoch : 300\n",
      "Epoch : 310\n",
      "Epoch : 320\n",
      "Epoch : 330\n",
      "Epoch : 340\n",
      "Epoch : 350\n",
      "Epoch : 360\n",
      "Epoch : 370\n",
      "Epoch : 380\n",
      "Epoch : 390\n",
      "Epoch : 400\n",
      "Epoch : 410\n",
      "Epoch : 420\n",
      "Epoch : 430\n",
      "Epoch : 440\n",
      "Epoch : 450\n",
      "Epoch : 460\n",
      "Epoch : 470\n",
      "Epoch : 480\n",
      "Epoch : 490\n",
      "Epoch : 500\n",
      "Epoch : 510\n",
      "Epoch : 520\n",
      "Epoch : 530\n",
      "Epoch : 540\n",
      "Epoch : 550\n",
      "Epoch : 560\n",
      "Epoch : 570\n",
      "Epoch : 580\n",
      "Epoch : 590\n",
      "Epoch : 600\n",
      "Epoch : 610\n",
      "Epoch : 620\n",
      "Epoch : 630\n",
      "Epoch : 640\n",
      "Epoch : 650\n",
      "Epoch : 660\n",
      "Epoch : 670\n",
      "Epoch : 680\n",
      "Epoch : 690\n",
      "Epoch : 700\n",
      "Epoch : 710\n",
      "Epoch : 720\n",
      "Epoch : 730\n",
      "Epoch : 740\n",
      "Epoch : 750\n",
      "Epoch : 760\n",
      "Epoch : 770\n",
      "Epoch : 780\n",
      "Epoch : 790\n",
      "Epoch : 800\n",
      "Epoch : 810\n",
      "Epoch : 820\n",
      "Epoch : 830\n",
      "Epoch : 840\n",
      "Epoch : 850\n",
      "Epoch : 860\n",
      "Epoch : 870\n",
      "Epoch : 880\n",
      "Epoch : 890\n",
      "Epoch : 900\n",
      "Epoch : 910\n",
      "Epoch : 920\n",
      "Epoch : 930\n",
      "Epoch : 940\n",
      "Epoch : 950\n",
      "Epoch : 960\n",
      "Epoch : 970\n",
      "Epoch : 980\n",
      "Epoch : 990\n",
      "Epoch : 1000\n",
      "Epoch : 1010\n",
      "Epoch : 1020\n",
      "Epoch : 1030\n",
      "Epoch : 1040\n",
      "Epoch : 1050\n",
      "Epoch : 1060\n",
      "Epoch : 1070\n",
      "Epoch : 1080\n",
      "Epoch : 1090\n",
      "Epoch : 1100\n",
      "Epoch : 1110\n",
      "Epoch : 1120\n",
      "Epoch : 1130\n",
      "Epoch : 1140\n",
      "Epoch : 1150\n",
      "Epoch : 1160\n",
      "Epoch : 1170\n",
      "Epoch : 1180\n",
      "Epoch : 1190\n",
      "Epoch : 1200\n",
      "Epoch : 1210\n",
      "Epoch : 1220\n",
      "Epoch : 1230\n",
      "Epoch : 1240\n",
      "Epoch : 1250\n",
      "Epoch : 1260\n",
      "Epoch : 1270\n",
      "Epoch : 1280\n",
      "Epoch : 1290\n",
      "Epoch : 1300\n",
      "Epoch : 1310\n",
      "Epoch : 1320\n",
      "Epoch : 1330\n",
      "Epoch : 1340\n",
      "Epoch : 1350\n",
      "Epoch : 1360\n",
      "Epoch : 1370\n",
      "Epoch : 1380\n",
      "Epoch : 1390\n",
      "Epoch : 1400\n",
      "Epoch : 1410\n",
      "Epoch : 1420\n",
      "Epoch : 1430\n",
      "Epoch : 1440\n",
      "Epoch : 1450\n",
      "Epoch : 1460\n",
      "Epoch : 1470\n",
      "Epoch : 1480\n",
      "Epoch : 1490\n",
      "Epoch : 1500\n",
      "Epoch : 1510\n",
      "Epoch : 1520\n",
      "Epoch : 1530\n",
      "Epoch : 1540\n",
      "Epoch : 1550\n",
      "Epoch : 1560\n",
      "Epoch : 1570\n",
      "Epoch : 1580\n",
      "Epoch : 1590\n",
      "Epoch : 1600\n",
      "Epoch : 1610\n",
      "Epoch : 1620\n",
      "Epoch : 1630\n",
      "Epoch : 1640\n",
      "Epoch : 1650\n",
      "Epoch : 1660\n",
      "Epoch : 1670\n",
      "Epoch : 1680\n",
      "Epoch : 1690\n",
      "Epoch : 1700\n",
      "Epoch : 1710\n",
      "Epoch : 1720\n",
      "Epoch : 1730\n",
      "Epoch : 1740\n",
      "Epoch : 1750\n",
      "Epoch : 1760\n",
      "Epoch : 1770\n",
      "Epoch : 1780\n",
      "Epoch : 1790\n"
     ]
    }
   ],
   "source": [
    "for p in range(len(d)):\n",
    "    with open(d[p],'r') as file:\n",
    "        r = file.read()\n",
    "    r = r.replace(' ','')\n",
    "    r = r.split(';\\n')\n",
    "    r = [i.split(',') for i in r]\n",
    "    to_drop_ind = []\n",
    "    for i in range(len(r)):\n",
    "        if(r[i] == ['']):\n",
    "            to_drop_ind.append(i)\n",
    "    c = 0\n",
    "    for i in to_drop_ind:\n",
    "        r.pop(i-c)\n",
    "        c+=1\n",
    "    r = [[int(i) for i in j] for j in r]\n",
    "    num_elements_to_select = int(len(r) * 0.05)\n",
    "    random_subset = random.sample(r, num_elements_to_select)\n",
    "    for i in range(len(random_subset)):\n",
    "        random_subset[i].append(0)\n",
    "    import pandas as pd\n",
    "    new_df = pd.DataFrame(random_subset, columns=df.columns)\n",
    "    df = pd.concat([df, new_df], ignore_index=True)\n",
    "    if(p%10==0):\n",
    "        print(f\"Epoch : {p}\")\n",
    "    if(p==1798):\n",
    "        break"
   ]
  },
  {
   "cell_type": "code",
   "execution_count": 13,
   "id": "3e5961a1",
   "metadata": {
    "execution": {
     "iopub.execute_input": "2024-03-27T18:20:31.685641Z",
     "iopub.status.busy": "2024-03-27T18:20:31.685170Z",
     "iopub.status.idle": "2024-03-27T18:20:31.708695Z",
     "shell.execute_reply": "2024-03-27T18:20:31.707560Z"
    },
    "papermill": {
     "duration": 0.07299,
     "end_time": "2024-03-27T18:20:31.711516",
     "exception": false,
     "start_time": "2024-03-27T18:20:31.638526",
     "status": "completed"
    },
    "tags": []
   },
   "outputs": [
    {
     "data": {
      "text/html": [
       "<div>\n",
       "<style scoped>\n",
       "    .dataframe tbody tr th:only-of-type {\n",
       "        vertical-align: middle;\n",
       "    }\n",
       "\n",
       "    .dataframe tbody tr th {\n",
       "        vertical-align: top;\n",
       "    }\n",
       "\n",
       "    .dataframe thead th {\n",
       "        text-align: right;\n",
       "    }\n",
       "</style>\n",
       "<table border=\"1\" class=\"dataframe\">\n",
       "  <thead>\n",
       "    <tr style=\"text-align: right;\">\n",
       "      <th></th>\n",
       "      <th>Column1</th>\n",
       "      <th>Column2</th>\n",
       "      <th>Column3</th>\n",
       "      <th>Column4</th>\n",
       "      <th>Column5</th>\n",
       "      <th>Column6</th>\n",
       "      <th>Column7</th>\n",
       "      <th>Column8</th>\n",
       "      <th>Column9</th>\n",
       "      <th>Column10</th>\n",
       "    </tr>\n",
       "  </thead>\n",
       "  <tbody>\n",
       "    <tr>\n",
       "      <th>0</th>\n",
       "      <td>280</td>\n",
       "      <td>50</td>\n",
       "      <td>-15</td>\n",
       "      <td>-80</td>\n",
       "      <td>41</td>\n",
       "      <td>11</td>\n",
       "      <td>1000</td>\n",
       "      <td>229</td>\n",
       "      <td>103</td>\n",
       "      <td>1</td>\n",
       "    </tr>\n",
       "    <tr>\n",
       "      <th>1</th>\n",
       "      <td>276</td>\n",
       "      <td>56</td>\n",
       "      <td>-12</td>\n",
       "      <td>-17</td>\n",
       "      <td>23</td>\n",
       "      <td>-19</td>\n",
       "      <td>969</td>\n",
       "      <td>234</td>\n",
       "      <td>123</td>\n",
       "      <td>1</td>\n",
       "    </tr>\n",
       "    <tr>\n",
       "      <th>2</th>\n",
       "      <td>273</td>\n",
       "      <td>61</td>\n",
       "      <td>-9</td>\n",
       "      <td>-91</td>\n",
       "      <td>32</td>\n",
       "      <td>15</td>\n",
       "      <td>968</td>\n",
       "      <td>239</td>\n",
       "      <td>127</td>\n",
       "      <td>1</td>\n",
       "    </tr>\n",
       "    <tr>\n",
       "      <th>3</th>\n",
       "      <td>14</td>\n",
       "      <td>-256</td>\n",
       "      <td>-91</td>\n",
       "      <td>-39</td>\n",
       "      <td>18</td>\n",
       "      <td>-1</td>\n",
       "      <td>-29</td>\n",
       "      <td>-981</td>\n",
       "      <td>-210</td>\n",
       "      <td>1</td>\n",
       "    </tr>\n",
       "    <tr>\n",
       "      <th>4</th>\n",
       "      <td>11</td>\n",
       "      <td>-257</td>\n",
       "      <td>-98</td>\n",
       "      <td>-23</td>\n",
       "      <td>17</td>\n",
       "      <td>-5</td>\n",
       "      <td>-26</td>\n",
       "      <td>-973</td>\n",
       "      <td>-214</td>\n",
       "      <td>1</td>\n",
       "    </tr>\n",
       "  </tbody>\n",
       "</table>\n",
       "</div>"
      ],
      "text/plain": [
       "  Column1 Column2 Column3 Column4 Column5 Column6 Column7 Column8 Column9  \\\n",
       "0     280      50     -15     -80      41      11    1000     229     103   \n",
       "1     276      56     -12     -17      23     -19     969     234     123   \n",
       "2     273      61      -9     -91      32      15     968     239     127   \n",
       "3      14    -256     -91     -39      18      -1     -29    -981    -210   \n",
       "4      11    -257     -98     -23      17      -5     -26    -973    -214   \n",
       "\n",
       "  Column10  \n",
       "0        1  \n",
       "1        1  \n",
       "2        1  \n",
       "3        1  \n",
       "4        1  "
      ]
     },
     "execution_count": 13,
     "metadata": {},
     "output_type": "execute_result"
    }
   ],
   "source": [
    "df.head()"
   ]
  },
  {
   "cell_type": "code",
   "execution_count": 14,
   "id": "7f1def27",
   "metadata": {
    "execution": {
     "iopub.execute_input": "2024-03-27T18:20:31.901361Z",
     "iopub.status.busy": "2024-03-27T18:20:31.900957Z",
     "iopub.status.idle": "2024-03-27T18:20:31.908068Z",
     "shell.execute_reply": "2024-03-27T18:20:31.906892Z"
    },
    "papermill": {
     "duration": 0.056608,
     "end_time": "2024-03-27T18:20:31.910377",
     "exception": false,
     "start_time": "2024-03-27T18:20:31.853769",
     "status": "completed"
    },
    "tags": []
   },
   "outputs": [
    {
     "data": {
      "text/plain": [
       "(610065, 10)"
      ]
     },
     "execution_count": 14,
     "metadata": {},
     "output_type": "execute_result"
    }
   ],
   "source": [
    "df.shape"
   ]
  },
  {
   "cell_type": "code",
   "execution_count": 15,
   "id": "7ebe2f92",
   "metadata": {
    "execution": {
     "iopub.execute_input": "2024-03-27T18:20:32.006944Z",
     "iopub.status.busy": "2024-03-27T18:20:32.006510Z",
     "iopub.status.idle": "2024-03-27T18:20:32.013960Z",
     "shell.execute_reply": "2024-03-27T18:20:32.012571Z"
    },
    "papermill": {
     "duration": 0.057662,
     "end_time": "2024-03-27T18:20:32.016304",
     "exception": false,
     "start_time": "2024-03-27T18:20:31.958642",
     "status": "completed"
    },
    "tags": []
   },
   "outputs": [
    {
     "data": {
      "text/plain": [
       "Index(['Column1', 'Column2', 'Column3', 'Column4', 'Column5', 'Column6',\n",
       "       'Column7', 'Column8', 'Column9', 'Column10'],\n",
       "      dtype='object')"
      ]
     },
     "execution_count": 15,
     "metadata": {},
     "output_type": "execute_result"
    }
   ],
   "source": [
    "df.columns"
   ]
  },
  {
   "cell_type": "code",
   "execution_count": 16,
   "id": "56a6b66e",
   "metadata": {
    "execution": {
     "iopub.execute_input": "2024-03-27T18:20:32.110534Z",
     "iopub.status.busy": "2024-03-27T18:20:32.110034Z",
     "iopub.status.idle": "2024-03-27T18:20:33.770331Z",
     "shell.execute_reply": "2024-03-27T18:20:33.769100Z"
    },
    "papermill": {
     "duration": 1.711124,
     "end_time": "2024-03-27T18:20:33.773603",
     "exception": false,
     "start_time": "2024-03-27T18:20:32.062479",
     "status": "completed"
    },
    "tags": []
   },
   "outputs": [],
   "source": [
    "from sklearn.ensemble import RandomForestClassifier\n",
    "from sklearn.metrics import accuracy_score, classification_report\n",
    "from sklearn.preprocessing import StandardScaler\n",
    "from sklearn.model_selection import train_test_split\n",
    "X = df[df.columns[:len(df.columns)-1]]\n",
    "y = df[df.columns[-1]]\n",
    "X_train_temp, X_test, y_train_temp, y_test = train_test_split(X, y, test_size=0.1, random_state=42)\n",
    "X_train, X_val, y_train, y_val = train_test_split(X_train_temp, y_train_temp, test_size=(1/9), random_state=42)\n"
   ]
  },
  {
   "cell_type": "code",
   "execution_count": 17,
   "id": "dc3b2bb5",
   "metadata": {
    "execution": {
     "iopub.execute_input": "2024-03-27T18:20:33.870382Z",
     "iopub.status.busy": "2024-03-27T18:20:33.869953Z",
     "iopub.status.idle": "2024-03-27T18:20:33.891084Z",
     "shell.execute_reply": "2024-03-27T18:20:33.889711Z"
    },
    "papermill": {
     "duration": 0.073501,
     "end_time": "2024-03-27T18:20:33.893611",
     "exception": false,
     "start_time": "2024-03-27T18:20:33.820110",
     "status": "completed"
    },
    "tags": []
   },
   "outputs": [
    {
     "data": {
      "text/html": [
       "<div>\n",
       "<style scoped>\n",
       "    .dataframe tbody tr th:only-of-type {\n",
       "        vertical-align: middle;\n",
       "    }\n",
       "\n",
       "    .dataframe tbody tr th {\n",
       "        vertical-align: top;\n",
       "    }\n",
       "\n",
       "    .dataframe thead th {\n",
       "        text-align: right;\n",
       "    }\n",
       "</style>\n",
       "<table border=\"1\" class=\"dataframe\">\n",
       "  <thead>\n",
       "    <tr style=\"text-align: right;\">\n",
       "      <th></th>\n",
       "      <th>Column1</th>\n",
       "      <th>Column2</th>\n",
       "      <th>Column3</th>\n",
       "      <th>Column4</th>\n",
       "      <th>Column5</th>\n",
       "      <th>Column6</th>\n",
       "      <th>Column7</th>\n",
       "      <th>Column8</th>\n",
       "      <th>Column9</th>\n",
       "    </tr>\n",
       "  </thead>\n",
       "  <tbody>\n",
       "    <tr>\n",
       "      <th>40990</th>\n",
       "      <td>28</td>\n",
       "      <td>66</td>\n",
       "      <td>199</td>\n",
       "      <td>-79</td>\n",
       "      <td>30</td>\n",
       "      <td>-7</td>\n",
       "      <td>40</td>\n",
       "      <td>261</td>\n",
       "      <td>983</td>\n",
       "    </tr>\n",
       "    <tr>\n",
       "      <th>169429</th>\n",
       "      <td>-2</td>\n",
       "      <td>-235</td>\n",
       "      <td>-98</td>\n",
       "      <td>-265</td>\n",
       "      <td>156</td>\n",
       "      <td>0</td>\n",
       "      <td>15</td>\n",
       "      <td>-893</td>\n",
       "      <td>-447</td>\n",
       "    </tr>\n",
       "    <tr>\n",
       "      <th>562897</th>\n",
       "      <td>-7</td>\n",
       "      <td>-257</td>\n",
       "      <td>-28</td>\n",
       "      <td>42</td>\n",
       "      <td>175</td>\n",
       "      <td>2</td>\n",
       "      <td>-53</td>\n",
       "      <td>-1016</td>\n",
       "      <td>-43</td>\n",
       "    </tr>\n",
       "    <tr>\n",
       "      <th>283888</th>\n",
       "      <td>13</td>\n",
       "      <td>-259</td>\n",
       "      <td>-55</td>\n",
       "      <td>-44</td>\n",
       "      <td>6</td>\n",
       "      <td>0</td>\n",
       "      <td>42</td>\n",
       "      <td>-1007</td>\n",
       "      <td>-73</td>\n",
       "    </tr>\n",
       "    <tr>\n",
       "      <th>478645</th>\n",
       "      <td>17</td>\n",
       "      <td>-271</td>\n",
       "      <td>-35</td>\n",
       "      <td>-64</td>\n",
       "      <td>57</td>\n",
       "      <td>0</td>\n",
       "      <td>54</td>\n",
       "      <td>-1051</td>\n",
       "      <td>-25</td>\n",
       "    </tr>\n",
       "    <tr>\n",
       "      <th>...</th>\n",
       "      <td>...</td>\n",
       "      <td>...</td>\n",
       "      <td>...</td>\n",
       "      <td>...</td>\n",
       "      <td>...</td>\n",
       "      <td>...</td>\n",
       "      <td>...</td>\n",
       "      <td>...</td>\n",
       "      <td>...</td>\n",
       "    </tr>\n",
       "    <tr>\n",
       "      <th>192964</th>\n",
       "      <td>-249</td>\n",
       "      <td>9</td>\n",
       "      <td>-83</td>\n",
       "      <td>149</td>\n",
       "      <td>151</td>\n",
       "      <td>-3</td>\n",
       "      <td>-971</td>\n",
       "      <td>19</td>\n",
       "      <td>-356</td>\n",
       "    </tr>\n",
       "    <tr>\n",
       "      <th>199527</th>\n",
       "      <td>-229</td>\n",
       "      <td>-41</td>\n",
       "      <td>98</td>\n",
       "      <td>45</td>\n",
       "      <td>48</td>\n",
       "      <td>-8</td>\n",
       "      <td>-883</td>\n",
       "      <td>-176</td>\n",
       "      <td>365</td>\n",
       "    </tr>\n",
       "    <tr>\n",
       "      <th>420453</th>\n",
       "      <td>-6</td>\n",
       "      <td>-118</td>\n",
       "      <td>208</td>\n",
       "      <td>174</td>\n",
       "      <td>198</td>\n",
       "      <td>104</td>\n",
       "      <td>-56</td>\n",
       "      <td>-481</td>\n",
       "      <td>862</td>\n",
       "    </tr>\n",
       "    <tr>\n",
       "      <th>511441</th>\n",
       "      <td>-12</td>\n",
       "      <td>-228</td>\n",
       "      <td>-100</td>\n",
       "      <td>552</td>\n",
       "      <td>77</td>\n",
       "      <td>-8</td>\n",
       "      <td>-65</td>\n",
       "      <td>-883</td>\n",
       "      <td>-334</td>\n",
       "    </tr>\n",
       "    <tr>\n",
       "      <th>15360</th>\n",
       "      <td>-6</td>\n",
       "      <td>-245</td>\n",
       "      <td>-52</td>\n",
       "      <td>40</td>\n",
       "      <td>17</td>\n",
       "      <td>-6</td>\n",
       "      <td>-54</td>\n",
       "      <td>-992</td>\n",
       "      <td>-198</td>\n",
       "    </tr>\n",
       "  </tbody>\n",
       "</table>\n",
       "<p>488051 rows × 9 columns</p>\n",
       "</div>"
      ],
      "text/plain": [
       "       Column1 Column2 Column3 Column4 Column5 Column6 Column7 Column8 Column9\n",
       "40990       28      66     199     -79      30      -7      40     261     983\n",
       "169429      -2    -235     -98    -265     156       0      15    -893    -447\n",
       "562897      -7    -257     -28      42     175       2     -53   -1016     -43\n",
       "283888      13    -259     -55     -44       6       0      42   -1007     -73\n",
       "478645      17    -271     -35     -64      57       0      54   -1051     -25\n",
       "...        ...     ...     ...     ...     ...     ...     ...     ...     ...\n",
       "192964    -249       9     -83     149     151      -3    -971      19    -356\n",
       "199527    -229     -41      98      45      48      -8    -883    -176     365\n",
       "420453      -6    -118     208     174     198     104     -56    -481     862\n",
       "511441     -12    -228    -100     552      77      -8     -65    -883    -334\n",
       "15360       -6    -245     -52      40      17      -6     -54    -992    -198\n",
       "\n",
       "[488051 rows x 9 columns]"
      ]
     },
     "execution_count": 17,
     "metadata": {},
     "output_type": "execute_result"
    }
   ],
   "source": [
    "X_train"
   ]
  },
  {
   "cell_type": "code",
   "execution_count": 18,
   "id": "e3560ec9",
   "metadata": {
    "execution": {
     "iopub.execute_input": "2024-03-27T18:20:33.992827Z",
     "iopub.status.busy": "2024-03-27T18:20:33.992311Z",
     "iopub.status.idle": "2024-03-27T18:20:34.012992Z",
     "shell.execute_reply": "2024-03-27T18:20:34.011784Z"
    },
    "papermill": {
     "duration": 0.074645,
     "end_time": "2024-03-27T18:20:34.015454",
     "exception": false,
     "start_time": "2024-03-27T18:20:33.940809",
     "status": "completed"
    },
    "tags": []
   },
   "outputs": [
    {
     "data": {
      "text/html": [
       "<div>\n",
       "<style scoped>\n",
       "    .dataframe tbody tr th:only-of-type {\n",
       "        vertical-align: middle;\n",
       "    }\n",
       "\n",
       "    .dataframe tbody tr th {\n",
       "        vertical-align: top;\n",
       "    }\n",
       "\n",
       "    .dataframe thead th {\n",
       "        text-align: right;\n",
       "    }\n",
       "</style>\n",
       "<table border=\"1\" class=\"dataframe\">\n",
       "  <thead>\n",
       "    <tr style=\"text-align: right;\">\n",
       "      <th></th>\n",
       "      <th>Column1</th>\n",
       "      <th>Column2</th>\n",
       "      <th>Column3</th>\n",
       "      <th>Column4</th>\n",
       "      <th>Column5</th>\n",
       "      <th>Column6</th>\n",
       "      <th>Column7</th>\n",
       "      <th>Column8</th>\n",
       "      <th>Column9</th>\n",
       "    </tr>\n",
       "  </thead>\n",
       "  <tbody>\n",
       "    <tr>\n",
       "      <th>68691</th>\n",
       "      <td>-26</td>\n",
       "      <td>-285</td>\n",
       "      <td>-36</td>\n",
       "      <td>62</td>\n",
       "      <td>675</td>\n",
       "      <td>-103</td>\n",
       "      <td>-116</td>\n",
       "      <td>-1111</td>\n",
       "      <td>-8</td>\n",
       "    </tr>\n",
       "    <tr>\n",
       "      <th>577103</th>\n",
       "      <td>17</td>\n",
       "      <td>-208</td>\n",
       "      <td>-98</td>\n",
       "      <td>251</td>\n",
       "      <td>48</td>\n",
       "      <td>-66</td>\n",
       "      <td>96</td>\n",
       "      <td>-806</td>\n",
       "      <td>-432</td>\n",
       "    </tr>\n",
       "    <tr>\n",
       "      <th>358475</th>\n",
       "      <td>16</td>\n",
       "      <td>-136</td>\n",
       "      <td>-230</td>\n",
       "      <td>-62</td>\n",
       "      <td>50</td>\n",
       "      <td>23</td>\n",
       "      <td>6</td>\n",
       "      <td>-475</td>\n",
       "      <td>-888</td>\n",
       "    </tr>\n",
       "    <tr>\n",
       "      <th>229896</th>\n",
       "      <td>-2</td>\n",
       "      <td>-306</td>\n",
       "      <td>-58</td>\n",
       "      <td>-74</td>\n",
       "      <td>-503</td>\n",
       "      <td>-44</td>\n",
       "      <td>12</td>\n",
       "      <td>-1173</td>\n",
       "      <td>-256</td>\n",
       "    </tr>\n",
       "    <tr>\n",
       "      <th>277861</th>\n",
       "      <td>-6</td>\n",
       "      <td>-242</td>\n",
       "      <td>-18</td>\n",
       "      <td>-5</td>\n",
       "      <td>316</td>\n",
       "      <td>32</td>\n",
       "      <td>-41</td>\n",
       "      <td>-944</td>\n",
       "      <td>62</td>\n",
       "    </tr>\n",
       "    <tr>\n",
       "      <th>...</th>\n",
       "      <td>...</td>\n",
       "      <td>...</td>\n",
       "      <td>...</td>\n",
       "      <td>...</td>\n",
       "      <td>...</td>\n",
       "      <td>...</td>\n",
       "      <td>...</td>\n",
       "      <td>...</td>\n",
       "      <td>...</td>\n",
       "    </tr>\n",
       "    <tr>\n",
       "      <th>7206</th>\n",
       "      <td>-245</td>\n",
       "      <td>-2</td>\n",
       "      <td>-21</td>\n",
       "      <td>-31</td>\n",
       "      <td>16</td>\n",
       "      <td>-1</td>\n",
       "      <td>-1032</td>\n",
       "      <td>2</td>\n",
       "      <td>100</td>\n",
       "    </tr>\n",
       "    <tr>\n",
       "      <th>157498</th>\n",
       "      <td>31</td>\n",
       "      <td>-329</td>\n",
       "      <td>-22</td>\n",
       "      <td>210</td>\n",
       "      <td>125</td>\n",
       "      <td>-541</td>\n",
       "      <td>149</td>\n",
       "      <td>-1286</td>\n",
       "      <td>-138</td>\n",
       "    </tr>\n",
       "    <tr>\n",
       "      <th>191532</th>\n",
       "      <td>34</td>\n",
       "      <td>-242</td>\n",
       "      <td>-12</td>\n",
       "      <td>-8</td>\n",
       "      <td>269</td>\n",
       "      <td>25</td>\n",
       "      <td>168</td>\n",
       "      <td>-922</td>\n",
       "      <td>-92</td>\n",
       "    </tr>\n",
       "    <tr>\n",
       "      <th>395650</th>\n",
       "      <td>7</td>\n",
       "      <td>-232</td>\n",
       "      <td>105</td>\n",
       "      <td>60</td>\n",
       "      <td>46</td>\n",
       "      <td>-11</td>\n",
       "      <td>23</td>\n",
       "      <td>-951</td>\n",
       "      <td>448</td>\n",
       "    </tr>\n",
       "    <tr>\n",
       "      <th>155940</th>\n",
       "      <td>66</td>\n",
       "      <td>-221</td>\n",
       "      <td>-133</td>\n",
       "      <td>-63</td>\n",
       "      <td>314</td>\n",
       "      <td>436</td>\n",
       "      <td>238</td>\n",
       "      <td>-867</td>\n",
       "      <td>-442</td>\n",
       "    </tr>\n",
       "  </tbody>\n",
       "</table>\n",
       "<p>61007 rows × 9 columns</p>\n",
       "</div>"
      ],
      "text/plain": [
       "       Column1 Column2 Column3 Column4 Column5 Column6 Column7 Column8 Column9\n",
       "68691      -26    -285     -36      62     675    -103    -116   -1111      -8\n",
       "577103      17    -208     -98     251      48     -66      96    -806    -432\n",
       "358475      16    -136    -230     -62      50      23       6    -475    -888\n",
       "229896      -2    -306     -58     -74    -503     -44      12   -1173    -256\n",
       "277861      -6    -242     -18      -5     316      32     -41    -944      62\n",
       "...        ...     ...     ...     ...     ...     ...     ...     ...     ...\n",
       "7206      -245      -2     -21     -31      16      -1   -1032       2     100\n",
       "157498      31    -329     -22     210     125    -541     149   -1286    -138\n",
       "191532      34    -242     -12      -8     269      25     168    -922     -92\n",
       "395650       7    -232     105      60      46     -11      23    -951     448\n",
       "155940      66    -221    -133     -63     314     436     238    -867    -442\n",
       "\n",
       "[61007 rows x 9 columns]"
      ]
     },
     "execution_count": 18,
     "metadata": {},
     "output_type": "execute_result"
    }
   ],
   "source": [
    "X_test"
   ]
  },
  {
   "cell_type": "code",
   "execution_count": 19,
   "id": "4dc06939",
   "metadata": {
    "execution": {
     "iopub.execute_input": "2024-03-27T18:20:34.119641Z",
     "iopub.status.busy": "2024-03-27T18:20:34.119204Z",
     "iopub.status.idle": "2024-03-27T18:20:35.062311Z",
     "shell.execute_reply": "2024-03-27T18:20:35.061339Z"
    },
    "papermill": {
     "duration": 1.000509,
     "end_time": "2024-03-27T18:20:35.065287",
     "exception": false,
     "start_time": "2024-03-27T18:20:34.064778",
     "status": "completed"
    },
    "tags": []
   },
   "outputs": [],
   "source": [
    "for column in X_train.columns:\n",
    "    X_train[column] = X_train[column].astype('float64')"
   ]
  },
  {
   "cell_type": "code",
   "execution_count": 20,
   "id": "ac901e70",
   "metadata": {
    "execution": {
     "iopub.execute_input": "2024-03-27T18:20:35.163633Z",
     "iopub.status.busy": "2024-03-27T18:20:35.162397Z",
     "iopub.status.idle": "2024-03-27T18:20:35.288308Z",
     "shell.execute_reply": "2024-03-27T18:20:35.287268Z"
    },
    "papermill": {
     "duration": 0.177433,
     "end_time": "2024-03-27T18:20:35.291167",
     "exception": false,
     "start_time": "2024-03-27T18:20:35.113734",
     "status": "completed"
    },
    "tags": []
   },
   "outputs": [],
   "source": [
    "for column in X_val.columns:\n",
    "    X_val[column] = X_val[column].astype('float64')"
   ]
  },
  {
   "cell_type": "code",
   "execution_count": 21,
   "id": "b09a6f1e",
   "metadata": {
    "execution": {
     "iopub.execute_input": "2024-03-27T18:20:35.390033Z",
     "iopub.status.busy": "2024-03-27T18:20:35.388936Z",
     "iopub.status.idle": "2024-03-27T18:20:35.519231Z",
     "shell.execute_reply": "2024-03-27T18:20:35.517893Z"
    },
    "papermill": {
     "duration": 0.182601,
     "end_time": "2024-03-27T18:20:35.522231",
     "exception": false,
     "start_time": "2024-03-27T18:20:35.339630",
     "status": "completed"
    },
    "tags": []
   },
   "outputs": [],
   "source": [
    "for column in X_test.columns:\n",
    "    X_test[column] = X_test[column].astype('float64')"
   ]
  },
  {
   "cell_type": "code",
   "execution_count": 22,
   "id": "c8a1dc90",
   "metadata": {
    "execution": {
     "iopub.execute_input": "2024-03-27T18:20:35.618607Z",
     "iopub.status.busy": "2024-03-27T18:20:35.618132Z",
     "iopub.status.idle": "2024-03-27T18:20:35.657646Z",
     "shell.execute_reply": "2024-03-27T18:20:35.656389Z"
    },
    "papermill": {
     "duration": 0.090691,
     "end_time": "2024-03-27T18:20:35.660324",
     "exception": false,
     "start_time": "2024-03-27T18:20:35.569633",
     "status": "completed"
    },
    "tags": []
   },
   "outputs": [],
   "source": [
    "y_train = y_train.astype('int64')"
   ]
  },
  {
   "cell_type": "code",
   "execution_count": 23,
   "id": "deea9438",
   "metadata": {
    "execution": {
     "iopub.execute_input": "2024-03-27T18:20:35.757578Z",
     "iopub.status.busy": "2024-03-27T18:20:35.757096Z",
     "iopub.status.idle": "2024-03-27T18:20:35.767978Z",
     "shell.execute_reply": "2024-03-27T18:20:35.766724Z"
    },
    "papermill": {
     "duration": 0.062347,
     "end_time": "2024-03-27T18:20:35.770749",
     "exception": false,
     "start_time": "2024-03-27T18:20:35.708402",
     "status": "completed"
    },
    "tags": []
   },
   "outputs": [],
   "source": [
    "y_val = y_val.astype('int64')"
   ]
  },
  {
   "cell_type": "code",
   "execution_count": 24,
   "id": "1ebbe995",
   "metadata": {
    "execution": {
     "iopub.execute_input": "2024-03-27T18:20:35.867780Z",
     "iopub.status.busy": "2024-03-27T18:20:35.866920Z",
     "iopub.status.idle": "2024-03-27T18:20:35.877208Z",
     "shell.execute_reply": "2024-03-27T18:20:35.876190Z"
    },
    "papermill": {
     "duration": 0.062754,
     "end_time": "2024-03-27T18:20:35.880386",
     "exception": false,
     "start_time": "2024-03-27T18:20:35.817632",
     "status": "completed"
    },
    "tags": []
   },
   "outputs": [],
   "source": [
    "y_test = y_test.astype('int64')"
   ]
  },
  {
   "cell_type": "code",
   "execution_count": 25,
   "id": "d695dff5",
   "metadata": {
    "execution": {
     "iopub.execute_input": "2024-03-27T18:20:35.978553Z",
     "iopub.status.busy": "2024-03-27T18:20:35.977832Z",
     "iopub.status.idle": "2024-03-27T18:20:35.984685Z",
     "shell.execute_reply": "2024-03-27T18:20:35.983155Z"
    },
    "papermill": {
     "duration": 0.059817,
     "end_time": "2024-03-27T18:20:35.987225",
     "exception": false,
     "start_time": "2024-03-27T18:20:35.927408",
     "status": "completed"
    },
    "tags": []
   },
   "outputs": [
    {
     "name": "stdout",
     "output_type": "stream",
     "text": [
      "488051\n",
      "61007\n",
      "61007\n"
     ]
    }
   ],
   "source": [
    "print(len(X_train))\n",
    "print(len(X_val))\n",
    "print(len(X_test))"
   ]
  },
  {
   "cell_type": "code",
   "execution_count": 26,
   "id": "0a2fa41c",
   "metadata": {
    "execution": {
     "iopub.execute_input": "2024-03-27T18:20:36.084932Z",
     "iopub.status.busy": "2024-03-27T18:20:36.084473Z",
     "iopub.status.idle": "2024-03-27T18:26:29.118216Z",
     "shell.execute_reply": "2024-03-27T18:26:29.116798Z"
    },
    "papermill": {
     "duration": 353.086961,
     "end_time": "2024-03-27T18:26:29.121293",
     "exception": false,
     "start_time": "2024-03-27T18:20:36.034332",
     "status": "completed"
    },
    "tags": []
   },
   "outputs": [
    {
     "name": "stdout",
     "output_type": "stream",
     "text": [
      "Validation Accuracy: 0.8535250053272575\n",
      "Validation Classification Report:\n",
      "               precision    recall  f1-score   support\n",
      "\n",
      "           0       0.82      0.94      0.88     33928\n",
      "           1       0.91      0.74      0.82     27079\n",
      "\n",
      "    accuracy                           0.85     61007\n",
      "   macro avg       0.87      0.84      0.85     61007\n",
      "weighted avg       0.86      0.85      0.85     61007\n",
      "\n",
      "Test Accuracy: 0.8537380956283706\n",
      "Test Classification Report:\n",
      "               precision    recall  f1-score   support\n",
      "\n",
      "           0       0.82      0.94      0.88     34015\n",
      "           1       0.91      0.74      0.82     26992\n",
      "\n",
      "    accuracy                           0.85     61007\n",
      "   macro avg       0.87      0.84      0.85     61007\n",
      "weighted avg       0.86      0.85      0.85     61007\n",
      "\n"
     ]
    }
   ],
   "source": [
    "rf_classifier = RandomForestClassifier(n_estimators=100, random_state=40)\n",
    "\n",
    "# Train the classifier on the training data\n",
    "rf_classifier.fit(X_train, y_train)\n",
    "\n",
    "# Make predictions on the test set\n",
    "y_pred = rf_classifier.predict(X_val)\n",
    "\n",
    "# Evaluate the performance of the classifier\n",
    "accuracy = accuracy_score(y_val, y_pred)\n",
    "classification_report_result = classification_report(y_val, y_pred)\n",
    "\n",
    "# Print the results\n",
    "print(\"Validation Accuracy:\", accuracy)\n",
    "print(\"Validation Classification Report:\\n\", classification_report_result)\n",
    "\n",
    "y_pred = rf_classifier.predict(X_test)\n",
    "# Evaluate the performance of the classifier\n",
    "accuracy = accuracy_score(y_test, y_pred)\n",
    "classification_report_result = classification_report(y_test, y_pred)\n",
    "\n",
    "# Print the results\n",
    "print(\"Test Accuracy:\", accuracy)\n",
    "print(\"Test Classification Report:\\n\", classification_report_result)"
   ]
  },
  {
   "cell_type": "code",
   "execution_count": 27,
   "id": "a7a27b91",
   "metadata": {
    "execution": {
     "iopub.execute_input": "2024-03-27T18:26:29.223615Z",
     "iopub.status.busy": "2024-03-27T18:26:29.223149Z",
     "iopub.status.idle": "2024-03-27T18:26:30.720329Z",
     "shell.execute_reply": "2024-03-27T18:26:30.719110Z"
    },
    "papermill": {
     "duration": 1.552261,
     "end_time": "2024-03-27T18:26:30.723536",
     "exception": false,
     "start_time": "2024-03-27T18:26:29.171275",
     "status": "completed"
    },
    "tags": []
   },
   "outputs": [],
   "source": [
    "import pickle\n",
    "from sklearn.ensemble import RandomForestClassifier\n",
    "\n",
    "with open('/kaggle/working/rfc_model.pkl', 'wb') as file:\n",
    "    pickle.dump(rf_classifier, file)"
   ]
  },
  {
   "cell_type": "code",
   "execution_count": 28,
   "id": "9a913d9a",
   "metadata": {
    "execution": {
     "iopub.execute_input": "2024-03-27T18:26:30.823287Z",
     "iopub.status.busy": "2024-03-27T18:26:30.822582Z",
     "iopub.status.idle": "2024-03-27T18:26:32.925724Z",
     "shell.execute_reply": "2024-03-27T18:26:32.924228Z"
    },
    "papermill": {
     "duration": 2.156904,
     "end_time": "2024-03-27T18:26:32.928609",
     "exception": false,
     "start_time": "2024-03-27T18:26:30.771705",
     "status": "completed"
    },
    "tags": []
   },
   "outputs": [
    {
     "name": "stdout",
     "output_type": "stream",
     "text": [
      "File zipped successfully!\n"
     ]
    }
   ],
   "source": [
    "import zipfile\n",
    "import os\n",
    "\n",
    "# Define the file to be zipped and the zip file name\n",
    "file_to_zip = '/kaggle/working/rfc_model.pkl'\n",
    "zip_file_name = '/kaggle/working/model.zip'\n",
    "\n",
    "# Create a new zip file\n",
    "with zipfile.ZipFile(zip_file_name, 'w') as zipf:\n",
    "    # Add the file to the zip archive\n",
    "    zipf.write(file_to_zip, os.path.basename(file_to_zip))\n",
    "\n",
    "print(\"File zipped successfully!\")\n"
   ]
  },
  {
   "cell_type": "code",
   "execution_count": 29,
   "id": "94169538",
   "metadata": {
    "execution": {
     "iopub.execute_input": "2024-03-27T18:26:33.028332Z",
     "iopub.status.busy": "2024-03-27T18:26:33.027852Z",
     "iopub.status.idle": "2024-03-27T18:26:34.329592Z",
     "shell.execute_reply": "2024-03-27T18:26:34.328352Z"
    },
    "papermill": {
     "duration": 1.356588,
     "end_time": "2024-03-27T18:26:34.332759",
     "exception": false,
     "start_time": "2024-03-27T18:26:32.976171",
     "status": "completed"
    },
    "tags": []
   },
   "outputs": [],
   "source": [
    "from joblib import load\n",
    "\n",
    "# Load the classifier from the .pkl file\n",
    "classifier = load('/kaggle/working/rfc_model.pkl')\n",
    "\n",
    "# Now you can use the 'classifier' object for prediction or any other purpose\n"
   ]
  },
  {
   "cell_type": "code",
   "execution_count": 30,
   "id": "89330415",
   "metadata": {
    "execution": {
     "iopub.execute_input": "2024-03-27T18:26:34.431578Z",
     "iopub.status.busy": "2024-03-27T18:26:34.431129Z",
     "iopub.status.idle": "2024-03-27T18:26:34.450162Z",
     "shell.execute_reply": "2024-03-27T18:26:34.449232Z"
    },
    "papermill": {
     "duration": 0.070172,
     "end_time": "2024-03-27T18:26:34.452337",
     "exception": false,
     "start_time": "2024-03-27T18:26:34.382165",
     "status": "completed"
    },
    "tags": []
   },
   "outputs": [
    {
     "data": {
      "text/html": [
       "<div>\n",
       "<style scoped>\n",
       "    .dataframe tbody tr th:only-of-type {\n",
       "        vertical-align: middle;\n",
       "    }\n",
       "\n",
       "    .dataframe tbody tr th {\n",
       "        vertical-align: top;\n",
       "    }\n",
       "\n",
       "    .dataframe thead th {\n",
       "        text-align: right;\n",
       "    }\n",
       "</style>\n",
       "<table border=\"1\" class=\"dataframe\">\n",
       "  <thead>\n",
       "    <tr style=\"text-align: right;\">\n",
       "      <th></th>\n",
       "      <th>Column1</th>\n",
       "      <th>Column2</th>\n",
       "      <th>Column3</th>\n",
       "      <th>Column4</th>\n",
       "      <th>Column5</th>\n",
       "      <th>Column6</th>\n",
       "      <th>Column7</th>\n",
       "      <th>Column8</th>\n",
       "      <th>Column9</th>\n",
       "      <th>Column10</th>\n",
       "    </tr>\n",
       "  </thead>\n",
       "  <tbody>\n",
       "    <tr>\n",
       "      <th>0</th>\n",
       "      <td>280</td>\n",
       "      <td>50</td>\n",
       "      <td>-15</td>\n",
       "      <td>-80</td>\n",
       "      <td>41</td>\n",
       "      <td>11</td>\n",
       "      <td>1000</td>\n",
       "      <td>229</td>\n",
       "      <td>103</td>\n",
       "      <td>1</td>\n",
       "    </tr>\n",
       "    <tr>\n",
       "      <th>1</th>\n",
       "      <td>276</td>\n",
       "      <td>56</td>\n",
       "      <td>-12</td>\n",
       "      <td>-17</td>\n",
       "      <td>23</td>\n",
       "      <td>-19</td>\n",
       "      <td>969</td>\n",
       "      <td>234</td>\n",
       "      <td>123</td>\n",
       "      <td>1</td>\n",
       "    </tr>\n",
       "    <tr>\n",
       "      <th>2</th>\n",
       "      <td>273</td>\n",
       "      <td>61</td>\n",
       "      <td>-9</td>\n",
       "      <td>-91</td>\n",
       "      <td>32</td>\n",
       "      <td>15</td>\n",
       "      <td>968</td>\n",
       "      <td>239</td>\n",
       "      <td>127</td>\n",
       "      <td>1</td>\n",
       "    </tr>\n",
       "    <tr>\n",
       "      <th>3</th>\n",
       "      <td>14</td>\n",
       "      <td>-256</td>\n",
       "      <td>-91</td>\n",
       "      <td>-39</td>\n",
       "      <td>18</td>\n",
       "      <td>-1</td>\n",
       "      <td>-29</td>\n",
       "      <td>-981</td>\n",
       "      <td>-210</td>\n",
       "      <td>1</td>\n",
       "    </tr>\n",
       "    <tr>\n",
       "      <th>4</th>\n",
       "      <td>11</td>\n",
       "      <td>-257</td>\n",
       "      <td>-98</td>\n",
       "      <td>-23</td>\n",
       "      <td>17</td>\n",
       "      <td>-5</td>\n",
       "      <td>-26</td>\n",
       "      <td>-973</td>\n",
       "      <td>-214</td>\n",
       "      <td>1</td>\n",
       "    </tr>\n",
       "    <tr>\n",
       "      <th>...</th>\n",
       "      <td>...</td>\n",
       "      <td>...</td>\n",
       "      <td>...</td>\n",
       "      <td>...</td>\n",
       "      <td>...</td>\n",
       "      <td>...</td>\n",
       "      <td>...</td>\n",
       "      <td>...</td>\n",
       "      <td>...</td>\n",
       "      <td>...</td>\n",
       "    </tr>\n",
       "    <tr>\n",
       "      <th>610060</th>\n",
       "      <td>-43</td>\n",
       "      <td>-236</td>\n",
       "      <td>-214</td>\n",
       "      <td>691</td>\n",
       "      <td>270</td>\n",
       "      <td>150</td>\n",
       "      <td>-145</td>\n",
       "      <td>-901</td>\n",
       "      <td>-932</td>\n",
       "      <td>0</td>\n",
       "    </tr>\n",
       "    <tr>\n",
       "      <th>610061</th>\n",
       "      <td>25</td>\n",
       "      <td>-237</td>\n",
       "      <td>-289</td>\n",
       "      <td>-1957</td>\n",
       "      <td>316</td>\n",
       "      <td>124</td>\n",
       "      <td>143</td>\n",
       "      <td>-889</td>\n",
       "      <td>-1202</td>\n",
       "      <td>0</td>\n",
       "    </tr>\n",
       "    <tr>\n",
       "      <th>610062</th>\n",
       "      <td>-13</td>\n",
       "      <td>-253</td>\n",
       "      <td>-21</td>\n",
       "      <td>-12</td>\n",
       "      <td>42</td>\n",
       "      <td>-7</td>\n",
       "      <td>-17</td>\n",
       "      <td>-985</td>\n",
       "      <td>-111</td>\n",
       "      <td>0</td>\n",
       "    </tr>\n",
       "    <tr>\n",
       "      <th>610063</th>\n",
       "      <td>-11</td>\n",
       "      <td>-252</td>\n",
       "      <td>-46</td>\n",
       "      <td>-112</td>\n",
       "      <td>39</td>\n",
       "      <td>-2</td>\n",
       "      <td>-22</td>\n",
       "      <td>-968</td>\n",
       "      <td>-210</td>\n",
       "      <td>0</td>\n",
       "    </tr>\n",
       "    <tr>\n",
       "      <th>610064</th>\n",
       "      <td>-8</td>\n",
       "      <td>-256</td>\n",
       "      <td>-75</td>\n",
       "      <td>1071</td>\n",
       "      <td>-106</td>\n",
       "      <td>-119</td>\n",
       "      <td>-6</td>\n",
       "      <td>-981</td>\n",
       "      <td>-343</td>\n",
       "      <td>0</td>\n",
       "    </tr>\n",
       "  </tbody>\n",
       "</table>\n",
       "<p>610065 rows × 10 columns</p>\n",
       "</div>"
      ],
      "text/plain": [
       "       Column1 Column2 Column3 Column4 Column5 Column6 Column7 Column8  \\\n",
       "0          280      50     -15     -80      41      11    1000     229   \n",
       "1          276      56     -12     -17      23     -19     969     234   \n",
       "2          273      61      -9     -91      32      15     968     239   \n",
       "3           14    -256     -91     -39      18      -1     -29    -981   \n",
       "4           11    -257     -98     -23      17      -5     -26    -973   \n",
       "...        ...     ...     ...     ...     ...     ...     ...     ...   \n",
       "610060     -43    -236    -214     691     270     150    -145    -901   \n",
       "610061      25    -237    -289   -1957     316     124     143    -889   \n",
       "610062     -13    -253     -21     -12      42      -7     -17    -985   \n",
       "610063     -11    -252     -46    -112      39      -2     -22    -968   \n",
       "610064      -8    -256     -75    1071    -106    -119      -6    -981   \n",
       "\n",
       "       Column9 Column10  \n",
       "0          103        1  \n",
       "1          123        1  \n",
       "2          127        1  \n",
       "3         -210        1  \n",
       "4         -214        1  \n",
       "...        ...      ...  \n",
       "610060    -932        0  \n",
       "610061   -1202        0  \n",
       "610062    -111        0  \n",
       "610063    -210        0  \n",
       "610064    -343        0  \n",
       "\n",
       "[610065 rows x 10 columns]"
      ]
     },
     "execution_count": 30,
     "metadata": {},
     "output_type": "execute_result"
    }
   ],
   "source": [
    "df"
   ]
  },
  {
   "cell_type": "code",
   "execution_count": 31,
   "id": "6451c573",
   "metadata": {
    "execution": {
     "iopub.execute_input": "2024-03-27T18:26:34.550771Z",
     "iopub.status.busy": "2024-03-27T18:26:34.550284Z",
     "iopub.status.idle": "2024-03-27T18:26:34.587453Z",
     "shell.execute_reply": "2024-03-27T18:26:34.586161Z"
    },
    "papermill": {
     "duration": 0.089662,
     "end_time": "2024-03-27T18:26:34.590386",
     "exception": false,
     "start_time": "2024-03-27T18:26:34.500724",
     "status": "completed"
    },
    "tags": []
   },
   "outputs": [
    {
     "data": {
      "text/html": [
       "<div>\n",
       "<style scoped>\n",
       "    .dataframe tbody tr th:only-of-type {\n",
       "        vertical-align: middle;\n",
       "    }\n",
       "\n",
       "    .dataframe tbody tr th {\n",
       "        vertical-align: top;\n",
       "    }\n",
       "\n",
       "    .dataframe thead th {\n",
       "        text-align: right;\n",
       "    }\n",
       "</style>\n",
       "<table border=\"1\" class=\"dataframe\">\n",
       "  <thead>\n",
       "    <tr style=\"text-align: right;\">\n",
       "      <th></th>\n",
       "      <th>Column1</th>\n",
       "      <th>Column2</th>\n",
       "      <th>Column3</th>\n",
       "      <th>Column4</th>\n",
       "      <th>Column5</th>\n",
       "      <th>Column6</th>\n",
       "      <th>Column7</th>\n",
       "      <th>Column8</th>\n",
       "      <th>Column9</th>\n",
       "      <th>Column10</th>\n",
       "    </tr>\n",
       "  </thead>\n",
       "  <tbody>\n",
       "    <tr>\n",
       "      <th>43014</th>\n",
       "      <td>-25</td>\n",
       "      <td>16</td>\n",
       "      <td>-287</td>\n",
       "      <td>-40</td>\n",
       "      <td>20</td>\n",
       "      <td>-6</td>\n",
       "      <td>-187</td>\n",
       "      <td>96</td>\n",
       "      <td>-999</td>\n",
       "      <td>1</td>\n",
       "    </tr>\n",
       "    <tr>\n",
       "      <th>226825</th>\n",
       "      <td>116</td>\n",
       "      <td>48</td>\n",
       "      <td>-227</td>\n",
       "      <td>-11</td>\n",
       "      <td>58</td>\n",
       "      <td>-3</td>\n",
       "      <td>453</td>\n",
       "      <td>228</td>\n",
       "      <td>-958</td>\n",
       "      <td>1</td>\n",
       "    </tr>\n",
       "    <tr>\n",
       "      <th>335513</th>\n",
       "      <td>26</td>\n",
       "      <td>-145</td>\n",
       "      <td>-37</td>\n",
       "      <td>478</td>\n",
       "      <td>233</td>\n",
       "      <td>-734</td>\n",
       "      <td>69</td>\n",
       "      <td>-606</td>\n",
       "      <td>-123</td>\n",
       "      <td>0</td>\n",
       "    </tr>\n",
       "    <tr>\n",
       "      <th>107698</th>\n",
       "      <td>266</td>\n",
       "      <td>19</td>\n",
       "      <td>-8</td>\n",
       "      <td>-44</td>\n",
       "      <td>17</td>\n",
       "      <td>-5</td>\n",
       "      <td>1023</td>\n",
       "      <td>88</td>\n",
       "      <td>105</td>\n",
       "      <td>1</td>\n",
       "    </tr>\n",
       "    <tr>\n",
       "      <th>488230</th>\n",
       "      <td>-26</td>\n",
       "      <td>-328</td>\n",
       "      <td>132</td>\n",
       "      <td>-887</td>\n",
       "      <td>-85</td>\n",
       "      <td>8</td>\n",
       "      <td>-79</td>\n",
       "      <td>-1309</td>\n",
       "      <td>518</td>\n",
       "      <td>0</td>\n",
       "    </tr>\n",
       "  </tbody>\n",
       "</table>\n",
       "</div>"
      ],
      "text/plain": [
       "       Column1 Column2 Column3 Column4 Column5 Column6 Column7 Column8  \\\n",
       "43014      -25      16    -287     -40      20      -6    -187      96   \n",
       "226825     116      48    -227     -11      58      -3     453     228   \n",
       "335513      26    -145     -37     478     233    -734      69    -606   \n",
       "107698     266      19      -8     -44      17      -5    1023      88   \n",
       "488230     -26    -328     132    -887     -85       8     -79   -1309   \n",
       "\n",
       "       Column9 Column10  \n",
       "43014     -999        1  \n",
       "226825    -958        1  \n",
       "335513    -123        0  \n",
       "107698     105        1  \n",
       "488230     518        0  "
      ]
     },
     "execution_count": 31,
     "metadata": {},
     "output_type": "execute_result"
    }
   ],
   "source": [
    "import pandas as pd\n",
    "\n",
    "sample_length = 100\n",
    "\n",
    "# Choose random rows from the DataFrame\n",
    "random_sample = df.sample(n=sample_length)\n",
    "\n",
    "random_sample.head()"
   ]
  },
  {
   "cell_type": "code",
   "execution_count": 32,
   "id": "762dc7f1",
   "metadata": {
    "execution": {
     "iopub.execute_input": "2024-03-27T18:26:34.691786Z",
     "iopub.status.busy": "2024-03-27T18:26:34.690822Z",
     "iopub.status.idle": "2024-03-27T18:26:34.842210Z",
     "shell.execute_reply": "2024-03-27T18:26:34.840853Z"
    },
    "papermill": {
     "duration": 0.204891,
     "end_time": "2024-03-27T18:26:34.845241",
     "exception": false,
     "start_time": "2024-03-27T18:26:34.640350",
     "status": "completed"
    },
    "tags": []
   },
   "outputs": [],
   "source": [
    "X_test = df[['Column1','Column2','Column3','Column4','Column5','Column6','Column7','Column8','Column9']]\n",
    "y_test = df['Column10']"
   ]
  },
  {
   "cell_type": "code",
   "execution_count": 33,
   "id": "b67c5005",
   "metadata": {
    "execution": {
     "iopub.execute_input": "2024-03-27T18:26:34.946807Z",
     "iopub.status.busy": "2024-03-27T18:26:34.946340Z",
     "iopub.status.idle": "2024-03-27T18:26:35.744502Z",
     "shell.execute_reply": "2024-03-27T18:26:35.743443Z"
    },
    "papermill": {
     "duration": 0.852117,
     "end_time": "2024-03-27T18:26:35.747642",
     "exception": false,
     "start_time": "2024-03-27T18:26:34.895525",
     "status": "completed"
    },
    "tags": []
   },
   "outputs": [],
   "source": [
    "for column in X_test.columns:\n",
    "    X_test[column] = X_test[column].astype('float64')\n",
    "y_test = y_test.astype('int64')"
   ]
  },
  {
   "cell_type": "code",
   "execution_count": 34,
   "id": "8730cd7f",
   "metadata": {
    "execution": {
     "iopub.execute_input": "2024-03-27T18:26:35.845752Z",
     "iopub.status.busy": "2024-03-27T18:26:35.845306Z",
     "iopub.status.idle": "2024-03-27T18:26:54.025317Z",
     "shell.execute_reply": "2024-03-27T18:26:54.024046Z"
    },
    "papermill": {
     "duration": 18.232565,
     "end_time": "2024-03-27T18:26:54.028634",
     "exception": false,
     "start_time": "2024-03-27T18:26:35.796069",
     "status": "completed"
    },
    "tags": []
   },
   "outputs": [],
   "source": [
    "y_pred = classifier.predict(X_test)"
   ]
  },
  {
   "cell_type": "code",
   "execution_count": 35,
   "id": "82812d9e",
   "metadata": {
    "execution": {
     "iopub.execute_input": "2024-03-27T18:26:54.130824Z",
     "iopub.status.busy": "2024-03-27T18:26:54.130375Z",
     "iopub.status.idle": "2024-03-27T18:26:55.207471Z",
     "shell.execute_reply": "2024-03-27T18:26:55.206273Z"
    },
    "papermill": {
     "duration": 1.131336,
     "end_time": "2024-03-27T18:26:55.210351",
     "exception": false,
     "start_time": "2024-03-27T18:26:54.079015",
     "status": "completed"
    },
    "tags": []
   },
   "outputs": [
    {
     "name": "stdout",
     "output_type": "stream",
     "text": [
      "Random Test Accuracy: 0.9707260701728504\n",
      "Random Test Classification Report:\n",
      "               precision    recall  f1-score   support\n",
      "\n",
      "           0       0.96      0.99      0.97    340492\n",
      "           1       0.98      0.95      0.97    269573\n",
      "\n",
      "    accuracy                           0.97    610065\n",
      "   macro avg       0.97      0.97      0.97    610065\n",
      "weighted avg       0.97      0.97      0.97    610065\n",
      "\n"
     ]
    }
   ],
   "source": [
    "accuracy = accuracy_score(y_test, y_pred)\n",
    "classification_report_result = classification_report(y_test, y_pred)\n",
    "\n",
    "# Print the results\n",
    "print(\"Random Test Accuracy:\", accuracy)\n",
    "print(\"Random Test Classification Report:\\n\", classification_report_result)"
   ]
  },
  {
   "cell_type": "code",
   "execution_count": null,
   "id": "50b13ecd",
   "metadata": {
    "papermill": {
     "duration": 0.049037,
     "end_time": "2024-03-27T18:26:55.307857",
     "exception": false,
     "start_time": "2024-03-27T18:26:55.258820",
     "status": "completed"
    },
    "tags": []
   },
   "outputs": [],
   "source": []
  }
 ],
 "metadata": {
  "kaggle": {
   "accelerator": "none",
   "dataSources": [
    {
     "datasetId": 4263904,
     "sourceId": 7343364,
     "sourceType": "datasetVersion"
    },
    {
     "datasetId": 4644052,
     "sourceId": 7906145,
     "sourceType": "datasetVersion"
    }
   ],
   "dockerImageVersionId": 30648,
   "isGpuEnabled": false,
   "isInternetEnabled": true,
   "language": "python",
   "sourceType": "notebook"
  },
  "kernelspec": {
   "display_name": "Python 3",
   "language": "python",
   "name": "python3"
  },
  "language_info": {
   "codemirror_mode": {
    "name": "ipython",
    "version": 3
   },
   "file_extension": ".py",
   "mimetype": "text/x-python",
   "name": "python",
   "nbconvert_exporter": "python",
   "pygments_lexer": "ipython3",
   "version": "3.10.13"
  },
  "papermill": {
   "default_parameters": {},
   "duration": 905.977693,
   "end_time": "2024-03-27T18:26:57.980166",
   "environment_variables": {},
   "exception": null,
   "input_path": "__notebook__.ipynb",
   "output_path": "__notebook__.ipynb",
   "parameters": {},
   "start_time": "2024-03-27T18:11:52.002473",
   "version": "2.5.0"
  }
 },
 "nbformat": 4,
 "nbformat_minor": 5
}
